{
 "cells": [
  {
   "cell_type": "code",
   "execution_count": 1,
   "id": "dba195db",
   "metadata": {
    "_cell_guid": "b1076dfc-b9ad-4769-8c92-a6c4dae69d19",
    "_uuid": "8f2839f25d086af736a60e9eeb907d3b93b6e0e5",
    "execution": {
     "iopub.execute_input": "2022-05-12T00:17:27.204728Z",
     "iopub.status.busy": "2022-05-12T00:17:27.203777Z",
     "iopub.status.idle": "2022-05-12T00:17:29.813494Z",
     "shell.execute_reply": "2022-05-12T00:17:29.812575Z"
    },
    "papermill": {
     "duration": 2.637216,
     "end_time": "2022-05-12T00:17:29.816268",
     "exception": false,
     "start_time": "2022-05-12T00:17:27.179052",
     "status": "completed"
    },
    "tags": []
   },
   "outputs": [],
   "source": [
    "import numpy as np\n",
    "import pandas as pd\n",
    "\n",
    "import torch\n",
    "from torch import nn\n",
    "\n",
    "from sklearn.model_selection import train_test_split"
   ]
  },
  {
   "cell_type": "code",
   "execution_count": 2,
   "id": "792e17af",
   "metadata": {
    "execution": {
     "iopub.execute_input": "2022-05-12T00:17:29.864850Z",
     "iopub.status.busy": "2022-05-12T00:17:29.864607Z",
     "iopub.status.idle": "2022-05-12T00:17:35.207394Z",
     "shell.execute_reply": "2022-05-12T00:17:35.206593Z"
    },
    "papermill": {
     "duration": 5.368991,
     "end_time": "2022-05-12T00:17:35.209567",
     "exception": false,
     "start_time": "2022-05-12T00:17:29.840576",
     "status": "completed"
    },
    "tags": []
   },
   "outputs": [],
   "source": [
    "import tensorflow as tf\n",
    "from tensorflow.keras.preprocessing.sequence import pad_sequences\n",
    "from tensorflow.keras.preprocessing.text import Tokenizer"
   ]
  },
  {
   "cell_type": "code",
   "execution_count": 3,
   "id": "b46982e5",
   "metadata": {
    "execution": {
     "iopub.execute_input": "2022-05-12T00:17:35.256761Z",
     "iopub.status.busy": "2022-05-12T00:17:35.256531Z",
     "iopub.status.idle": "2022-05-12T00:17:35.260097Z",
     "shell.execute_reply": "2022-05-12T00:17:35.259325Z"
    },
    "papermill": {
     "duration": 0.029159,
     "end_time": "2022-05-12T00:17:35.261875",
     "exception": false,
     "start_time": "2022-05-12T00:17:35.232716",
     "status": "completed"
    },
    "tags": []
   },
   "outputs": [],
   "source": [
    "vocab_size = 5000"
   ]
  },
  {
   "cell_type": "code",
   "execution_count": 4,
   "id": "cf0dd849",
   "metadata": {
    "execution": {
     "iopub.execute_input": "2022-05-12T00:17:35.307759Z",
     "iopub.status.busy": "2022-05-12T00:17:35.307209Z",
     "iopub.status.idle": "2022-05-12T00:17:35.367586Z",
     "shell.execute_reply": "2022-05-12T00:17:35.366763Z"
    },
    "papermill": {
     "duration": 0.084469,
     "end_time": "2022-05-12T00:17:35.369299",
     "exception": false,
     "start_time": "2022-05-12T00:17:35.284830",
     "status": "completed"
    },
    "tags": []
   },
   "outputs": [],
   "source": [
    "device = torch.device(\"cuda\" if torch.cuda.is_available() else \"cpu\")"
   ]
  },
  {
   "cell_type": "code",
   "execution_count": 5,
   "id": "5f0da7bf",
   "metadata": {
    "execution": {
     "iopub.execute_input": "2022-05-12T00:17:35.415592Z",
     "iopub.status.busy": "2022-05-12T00:17:35.414769Z",
     "iopub.status.idle": "2022-05-12T00:17:35.486116Z",
     "shell.execute_reply": "2022-05-12T00:17:35.485322Z"
    },
    "papermill": {
     "duration": 0.095943,
     "end_time": "2022-05-12T00:17:35.488339",
     "exception": false,
     "start_time": "2022-05-12T00:17:35.392396",
     "status": "completed"
    },
    "tags": []
   },
   "outputs": [],
   "source": [
    "dataset = pd.read_csv(\"../input/disaster-tweets/tweets.csv\")"
   ]
  },
  {
   "cell_type": "code",
   "execution_count": 6,
   "id": "a33bcd81",
   "metadata": {
    "execution": {
     "iopub.execute_input": "2022-05-12T00:17:35.536228Z",
     "iopub.status.busy": "2022-05-12T00:17:35.535576Z",
     "iopub.status.idle": "2022-05-12T00:17:35.549432Z",
     "shell.execute_reply": "2022-05-12T00:17:35.548736Z"
    },
    "papermill": {
     "duration": 0.039989,
     "end_time": "2022-05-12T00:17:35.551342",
     "exception": false,
     "start_time": "2022-05-12T00:17:35.511353",
     "status": "completed"
    },
    "tags": []
   },
   "outputs": [],
   "source": [
    "dataset = dataset[[\"text\", \"target\"]]"
   ]
  },
  {
   "cell_type": "code",
   "execution_count": 7,
   "id": "658aa0b5",
   "metadata": {
    "execution": {
     "iopub.execute_input": "2022-05-12T00:17:35.600163Z",
     "iopub.status.busy": "2022-05-12T00:17:35.599527Z",
     "iopub.status.idle": "2022-05-12T00:17:35.613100Z",
     "shell.execute_reply": "2022-05-12T00:17:35.612354Z"
    },
    "papermill": {
     "duration": 0.038434,
     "end_time": "2022-05-12T00:17:35.615181",
     "exception": false,
     "start_time": "2022-05-12T00:17:35.576747",
     "status": "completed"
    },
    "tags": []
   },
   "outputs": [
    {
     "data": {
      "text/html": [
       "<div>\n",
       "<style scoped>\n",
       "    .dataframe tbody tr th:only-of-type {\n",
       "        vertical-align: middle;\n",
       "    }\n",
       "\n",
       "    .dataframe tbody tr th {\n",
       "        vertical-align: top;\n",
       "    }\n",
       "\n",
       "    .dataframe thead th {\n",
       "        text-align: right;\n",
       "    }\n",
       "</style>\n",
       "<table border=\"1\" class=\"dataframe\">\n",
       "  <thead>\n",
       "    <tr style=\"text-align: right;\">\n",
       "      <th></th>\n",
       "      <th>text</th>\n",
       "      <th>target</th>\n",
       "    </tr>\n",
       "  </thead>\n",
       "  <tbody>\n",
       "    <tr>\n",
       "      <th>0</th>\n",
       "      <td>Communal violence in Bhainsa, Telangana. \"Ston...</td>\n",
       "      <td>1</td>\n",
       "    </tr>\n",
       "    <tr>\n",
       "      <th>1</th>\n",
       "      <td>Telangana: Section 144 has been imposed in Bha...</td>\n",
       "      <td>1</td>\n",
       "    </tr>\n",
       "    <tr>\n",
       "      <th>2</th>\n",
       "      <td>Arsonist sets cars ablaze at dealership https:...</td>\n",
       "      <td>1</td>\n",
       "    </tr>\n",
       "    <tr>\n",
       "      <th>3</th>\n",
       "      <td>Arsonist sets cars ablaze at dealership https:...</td>\n",
       "      <td>1</td>\n",
       "    </tr>\n",
       "    <tr>\n",
       "      <th>4</th>\n",
       "      <td>\"Lord Jesus, your love brings freedom and pard...</td>\n",
       "      <td>0</td>\n",
       "    </tr>\n",
       "  </tbody>\n",
       "</table>\n",
       "</div>"
      ],
      "text/plain": [
       "                                                text  target\n",
       "0  Communal violence in Bhainsa, Telangana. \"Ston...       1\n",
       "1  Telangana: Section 144 has been imposed in Bha...       1\n",
       "2  Arsonist sets cars ablaze at dealership https:...       1\n",
       "3  Arsonist sets cars ablaze at dealership https:...       1\n",
       "4  \"Lord Jesus, your love brings freedom and pard...       0"
      ]
     },
     "execution_count": 7,
     "metadata": {},
     "output_type": "execute_result"
    }
   ],
   "source": [
    "dataset.head(5)"
   ]
  },
  {
   "cell_type": "code",
   "execution_count": 8,
   "id": "f882043a",
   "metadata": {
    "execution": {
     "iopub.execute_input": "2022-05-12T00:17:35.662301Z",
     "iopub.status.busy": "2022-05-12T00:17:35.660914Z",
     "iopub.status.idle": "2022-05-12T00:17:35.666290Z",
     "shell.execute_reply": "2022-05-12T00:17:35.665531Z"
    },
    "papermill": {
     "duration": 0.029942,
     "end_time": "2022-05-12T00:17:35.668245",
     "exception": false,
     "start_time": "2022-05-12T00:17:35.638303",
     "status": "completed"
    },
    "tags": []
   },
   "outputs": [],
   "source": [
    "tokenizer = Tokenizer(\n",
    "    num_words=25000,\n",
    "    filters='!\"#$%&()*+,-./:;<=>?@[\\\\]^_`{|}~\\t\\n',\n",
    "    lower=True,\n",
    "    split=' ',\n",
    "    char_level=False,\n",
    "    oov_token=None,\n",
    "    document_count=0\n",
    ")"
   ]
  },
  {
   "cell_type": "code",
   "execution_count": 9,
   "id": "812a39a2",
   "metadata": {
    "execution": {
     "iopub.execute_input": "2022-05-12T00:17:35.715772Z",
     "iopub.status.busy": "2022-05-12T00:17:35.715071Z",
     "iopub.status.idle": "2022-05-12T00:17:36.125237Z",
     "shell.execute_reply": "2022-05-12T00:17:36.124387Z"
    },
    "papermill": {
     "duration": 0.436963,
     "end_time": "2022-05-12T00:17:36.127684",
     "exception": false,
     "start_time": "2022-05-12T00:17:35.690721",
     "status": "completed"
    },
    "tags": []
   },
   "outputs": [],
   "source": [
    "tokenizer.fit_on_texts(dataset[\"text\"])"
   ]
  },
  {
   "cell_type": "code",
   "execution_count": 10,
   "id": "0b47f22c",
   "metadata": {
    "execution": {
     "iopub.execute_input": "2022-05-12T00:17:36.174352Z",
     "iopub.status.busy": "2022-05-12T00:17:36.174070Z",
     "iopub.status.idle": "2022-05-12T00:17:36.476950Z",
     "shell.execute_reply": "2022-05-12T00:17:36.476105Z"
    },
    "papermill": {
     "duration": 0.330037,
     "end_time": "2022-05-12T00:17:36.479291",
     "exception": false,
     "start_time": "2022-05-12T00:17:36.149254",
     "status": "completed"
    },
    "tags": []
   },
   "outputs": [],
   "source": [
    "sequences = tokenizer.texts_to_sequences(dataset[\"text\"])\n",
    "labels = dataset[\"target\"]"
   ]
  },
  {
   "cell_type": "code",
   "execution_count": 11,
   "id": "eb3b98cb",
   "metadata": {
    "execution": {
     "iopub.execute_input": "2022-05-12T00:17:36.528001Z",
     "iopub.status.busy": "2022-05-12T00:17:36.526637Z",
     "iopub.status.idle": "2022-05-12T00:17:36.583515Z",
     "shell.execute_reply": "2022-05-12T00:17:36.582726Z"
    },
    "papermill": {
     "duration": 0.083625,
     "end_time": "2022-05-12T00:17:36.585860",
     "exception": false,
     "start_time": "2022-05-12T00:17:36.502235",
     "status": "completed"
    },
    "tags": []
   },
   "outputs": [],
   "source": [
    "sequences = pad_sequences(sequences, maxlen=10, padding=\"post\")"
   ]
  },
  {
   "cell_type": "code",
   "execution_count": 12,
   "id": "b46d29a1",
   "metadata": {
    "execution": {
     "iopub.execute_input": "2022-05-12T00:17:36.632229Z",
     "iopub.status.busy": "2022-05-12T00:17:36.631980Z",
     "iopub.status.idle": "2022-05-12T00:17:36.636905Z",
     "shell.execute_reply": "2022-05-12T00:17:36.636338Z"
    },
    "papermill": {
     "duration": 0.030818,
     "end_time": "2022-05-12T00:17:36.638899",
     "exception": false,
     "start_time": "2022-05-12T00:17:36.608081",
     "status": "completed"
    },
    "tags": []
   },
   "outputs": [
    {
     "data": {
      "text/plain": [
       "30729"
      ]
     },
     "execution_count": 12,
     "metadata": {},
     "output_type": "execute_result"
    }
   ],
   "source": [
    "total_vocab_size = len(tokenizer.word_counts)\n",
    "total_vocab_size"
   ]
  },
  {
   "cell_type": "code",
   "execution_count": 13,
   "id": "ccabce60",
   "metadata": {
    "execution": {
     "iopub.execute_input": "2022-05-12T00:17:36.685257Z",
     "iopub.status.busy": "2022-05-12T00:17:36.684937Z",
     "iopub.status.idle": "2022-05-12T00:17:36.691912Z",
     "shell.execute_reply": "2022-05-12T00:17:36.691176Z"
    },
    "papermill": {
     "duration": 0.031626,
     "end_time": "2022-05-12T00:17:36.693856",
     "exception": false,
     "start_time": "2022-05-12T00:17:36.662230",
     "status": "completed"
    },
    "tags": []
   },
   "outputs": [],
   "source": [
    "x_train, x_val, y_train, y_val = train_test_split(sequences, labels, test_size=0.3, shuffle=True)"
   ]
  },
  {
   "cell_type": "code",
   "execution_count": 14,
   "id": "462721b3",
   "metadata": {
    "execution": {
     "iopub.execute_input": "2022-05-12T00:17:36.740856Z",
     "iopub.status.busy": "2022-05-12T00:17:36.740371Z",
     "iopub.status.idle": "2022-05-12T00:17:36.744383Z",
     "shell.execute_reply": "2022-05-12T00:17:36.743718Z"
    },
    "papermill": {
     "duration": 0.029916,
     "end_time": "2022-05-12T00:17:36.746079",
     "exception": false,
     "start_time": "2022-05-12T00:17:36.716163",
     "status": "completed"
    },
    "tags": []
   },
   "outputs": [],
   "source": [
    "y_train = y_train.values.reshape(-1, 1)\n",
    "y_val = y_val.values.reshape(-1, 1)"
   ]
  },
  {
   "cell_type": "code",
   "execution_count": 15,
   "id": "b71eb2e8",
   "metadata": {
    "execution": {
     "iopub.execute_input": "2022-05-12T00:17:36.792431Z",
     "iopub.status.busy": "2022-05-12T00:17:36.791864Z",
     "iopub.status.idle": "2022-05-12T00:17:36.799144Z",
     "shell.execute_reply": "2022-05-12T00:17:36.798340Z"
    },
    "papermill": {
     "duration": 0.031991,
     "end_time": "2022-05-12T00:17:36.801082",
     "exception": false,
     "start_time": "2022-05-12T00:17:36.769091",
     "status": "completed"
    },
    "tags": []
   },
   "outputs": [
    {
     "data": {
      "text/plain": [
       "24997"
      ]
     },
     "execution_count": 15,
     "metadata": {},
     "output_type": "execute_result"
    }
   ],
   "source": [
    "x_train.max()"
   ]
  },
  {
   "cell_type": "code",
   "execution_count": 16,
   "id": "c524305d",
   "metadata": {
    "execution": {
     "iopub.execute_input": "2022-05-12T00:17:36.849924Z",
     "iopub.status.busy": "2022-05-12T00:17:36.849687Z",
     "iopub.status.idle": "2022-05-12T00:17:42.680784Z",
     "shell.execute_reply": "2022-05-12T00:17:42.680130Z"
    },
    "papermill": {
     "duration": 5.859144,
     "end_time": "2022-05-12T00:17:42.682683",
     "exception": false,
     "start_time": "2022-05-12T00:17:36.823539",
     "status": "completed"
    },
    "tags": []
   },
   "outputs": [
    {
     "data": {
      "text/plain": [
       "NeuralNet(\n",
       "  (embedding): Embedding(25000, 50)\n",
       "  (lstm): LSTM(50, 64, batch_first=True)\n",
       "  (dropout): Dropout(p=0.3, inplace=False)\n",
       "  (fc_1): Linear(in_features=64, out_features=1, bias=True)\n",
       "  (relu): ReLU()\n",
       "  (sigmoid): Sigmoid()\n",
       ")"
      ]
     },
     "execution_count": 16,
     "metadata": {},
     "output_type": "execute_result"
    }
   ],
   "source": [
    "class NeuralNet(nn.Module):\n",
    "    \n",
    "    def __init__(self):\n",
    "        super(NeuralNet, self).__init__()\n",
    "        \n",
    "        self.embedding = nn.Embedding(25000, 50)\n",
    "        self.lstm = nn.LSTM(50, 64, batch_first=True)\n",
    "        self.dropout = nn.Dropout(0.3)\n",
    "        self.fc_1 = nn.Linear(64, 1)\n",
    "        self.relu = nn.ReLU()\n",
    "        self.sigmoid = nn.Sigmoid()\n",
    "        \n",
    "    def forward(self, x):        \n",
    "        embeddings = self.embedding(x)\n",
    "        \n",
    "        lstm_0, (h_0, c_0) = self.lstm(embeddings)\n",
    "         \n",
    "        lstm_0 = lstm_0[:, -1, :]\n",
    "        linear = self.fc_1(lstm_0)\n",
    "        linear = self.dropout(linear)\n",
    "        out = self.sigmoid(linear)\n",
    "    \n",
    "        return out\n",
    "\n",
    "model = NeuralNet()\n",
    "model.to(device)"
   ]
  },
  {
   "cell_type": "code",
   "execution_count": 17,
   "id": "5438a959",
   "metadata": {
    "execution": {
     "iopub.execute_input": "2022-05-12T00:17:42.727922Z",
     "iopub.status.busy": "2022-05-12T00:17:42.727692Z",
     "iopub.status.idle": "2022-05-12T00:17:42.735061Z",
     "shell.execute_reply": "2022-05-12T00:17:42.734407Z"
    },
    "papermill": {
     "duration": 0.032106,
     "end_time": "2022-05-12T00:17:42.736859",
     "exception": false,
     "start_time": "2022-05-12T00:17:42.704753",
     "status": "completed"
    },
    "tags": []
   },
   "outputs": [],
   "source": [
    "# we first convert the data into tensor form\n",
    "train_in_tensor = torch.utils.data.TensorDataset(torch.tensor(x_train),torch.tensor(y_train))\n",
    "val_in_tensor = torch.utils.data.TensorDataset(torch.tensor(x_val), torch.tensor(y_val))\n",
    "\n",
    "# then we use dataloaders to perform batch operations\n",
    "train_loader = torch.utils.data.DataLoader(train_in_tensor, batch_size=15)\n",
    "val_loader = torch.utils.data.DataLoader(val_in_tensor, batch_size=15)"
   ]
  },
  {
   "cell_type": "code",
   "execution_count": 18,
   "id": "9cb66524",
   "metadata": {
    "execution": {
     "iopub.execute_input": "2022-05-12T00:17:42.781415Z",
     "iopub.status.busy": "2022-05-12T00:17:42.780843Z",
     "iopub.status.idle": "2022-05-12T00:17:42.786207Z",
     "shell.execute_reply": "2022-05-12T00:17:42.785616Z"
    },
    "papermill": {
     "duration": 0.029499,
     "end_time": "2022-05-12T00:17:42.787909",
     "exception": false,
     "start_time": "2022-05-12T00:17:42.758410",
     "status": "completed"
    },
    "tags": []
   },
   "outputs": [],
   "source": [
    "# define a loss function\n",
    "loss_fn = torch.nn.BCELoss(reduction = \"mean\").cuda()\n",
    "\n",
    "# define a optimizer\n",
    "optim = torch.optim.Adam(model.parameters(), lr = 0.05)\n",
    "\n",
    "# define LR scheduler\n",
    "scheduler = torch.optim.lr_scheduler.StepLR(optim, step_size=5, gamma=0.1)"
   ]
  },
  {
   "cell_type": "code",
   "execution_count": 19,
   "id": "7dd6fb78",
   "metadata": {
    "execution": {
     "iopub.execute_input": "2022-05-12T00:17:42.834018Z",
     "iopub.status.busy": "2022-05-12T00:17:42.833551Z",
     "iopub.status.idle": "2022-05-12T00:17:42.842887Z",
     "shell.execute_reply": "2022-05-12T00:17:42.842155Z"
    },
    "papermill": {
     "duration": 0.0343,
     "end_time": "2022-05-12T00:17:42.844590",
     "exception": false,
     "start_time": "2022-05-12T00:17:42.810290",
     "status": "completed"
    },
    "tags": []
   },
   "outputs": [],
   "source": [
    "loss_list = []\n",
    "def train_model(model, epochs, optim, loss_fn, validate):\n",
    "    \n",
    "    for epoch in range(epochs):\n",
    "        avg_train_loss = 0\n",
    "        for x_batch, y_batch in train_loader:\n",
    "            \n",
    "            x_batch = x_batch.to(device) # data loading into cuda/gpu is not in-place operation\n",
    "            y_batch = y_batch.to(device)\n",
    "            \n",
    "            optim.zero_grad()\n",
    "            \n",
    "            y_pred = model(x_batch)\n",
    "            \n",
    "            loss = loss_fn(y_pred, y_batch.float())\n",
    "\n",
    "            loss.backward()\n",
    "\n",
    "            optim.step()\n",
    "            \n",
    "            avg_train_loss += loss.item()/len(train_loader)\n",
    "               \n",
    "        \n",
    "        if validate:\n",
    "            with torch.no_grad():\n",
    "                model.eval()\n",
    "                avg_val_loss = 0\n",
    "                for x_batch, y_batch in val_loader:\n",
    "                    \n",
    "                    x_batch = x_batch.to(device)\n",
    "                    y_batch = y_batch.to(device)\n",
    "            \n",
    "                    y_pred = model(x_batch)\n",
    "                    loss = loss_fn(y_pred, y_batch.float())\n",
    "                    avg_val_loss += loss.item()/len(val_loader)\n",
    "            \n",
    "            model.train()\n",
    "        \n",
    "        scheduler.step()\n",
    "        \n",
    "        print('Epoch {} \\t train_loss={:.4f} \\t validation_loss={:.4f}'.format(epoch + 1, avg_train_loss, avg_val_loss))\n",
    "        \n",
    "    return model"
   ]
  },
  {
   "cell_type": "code",
   "execution_count": 20,
   "id": "5d67676e",
   "metadata": {
    "execution": {
     "iopub.execute_input": "2022-05-12T00:17:42.889710Z",
     "iopub.status.busy": "2022-05-12T00:17:42.889489Z",
     "iopub.status.idle": "2022-05-12T00:17:59.280846Z",
     "shell.execute_reply": "2022-05-12T00:17:59.280081Z"
    },
    "papermill": {
     "duration": 16.41663,
     "end_time": "2022-05-12T00:17:59.282766",
     "exception": false,
     "start_time": "2022-05-12T00:17:42.866136",
     "status": "completed"
    },
    "tags": []
   },
   "outputs": [
    {
     "name": "stdout",
     "output_type": "stream",
     "text": [
      "Epoch 1 \t train_loss=0.5724 \t validation_loss=0.4907\n",
      "Epoch 2 \t train_loss=0.5762 \t validation_loss=0.5355\n",
      "Epoch 3 \t train_loss=0.5683 \t validation_loss=0.5002\n",
      "Epoch 4 \t train_loss=0.5573 \t validation_loss=0.5467\n",
      "Epoch 5 \t train_loss=0.5532 \t validation_loss=0.5425\n",
      "Epoch 6 \t train_loss=0.5412 \t validation_loss=0.4943\n",
      "Epoch 7 \t train_loss=0.4897 \t validation_loss=0.5039\n",
      "Epoch 8 \t train_loss=0.4644 \t validation_loss=0.5166\n",
      "Epoch 9 \t train_loss=0.4399 \t validation_loss=0.5384\n",
      "Epoch 10 \t train_loss=0.4191 \t validation_loss=0.5561\n"
     ]
    },
    {
     "data": {
      "text/plain": [
       "NeuralNet(\n",
       "  (embedding): Embedding(25000, 50)\n",
       "  (lstm): LSTM(50, 64, batch_first=True)\n",
       "  (dropout): Dropout(p=0.3, inplace=False)\n",
       "  (fc_1): Linear(in_features=64, out_features=1, bias=True)\n",
       "  (relu): ReLU()\n",
       "  (sigmoid): Sigmoid()\n",
       ")"
      ]
     },
     "execution_count": 20,
     "metadata": {},
     "output_type": "execute_result"
    }
   ],
   "source": [
    "train_model(model, 10, optim, loss_fn, validate=True)"
   ]
  },
  {
   "cell_type": "code",
   "execution_count": null,
   "id": "9872d67f",
   "metadata": {
    "papermill": {
     "duration": 0.024723,
     "end_time": "2022-05-12T00:17:59.332699",
     "exception": false,
     "start_time": "2022-05-12T00:17:59.307976",
     "status": "completed"
    },
    "tags": []
   },
   "outputs": [],
   "source": []
  },
  {
   "cell_type": "code",
   "execution_count": null,
   "id": "ecee5f80",
   "metadata": {
    "papermill": {
     "duration": 0.024465,
     "end_time": "2022-05-12T00:17:59.382561",
     "exception": false,
     "start_time": "2022-05-12T00:17:59.358096",
     "status": "completed"
    },
    "tags": []
   },
   "outputs": [],
   "source": []
  },
  {
   "cell_type": "code",
   "execution_count": null,
   "id": "3e7ade3a",
   "metadata": {
    "papermill": {
     "duration": 0.024444,
     "end_time": "2022-05-12T00:17:59.431877",
     "exception": false,
     "start_time": "2022-05-12T00:17:59.407433",
     "status": "completed"
    },
    "tags": []
   },
   "outputs": [],
   "source": []
  },
  {
   "cell_type": "code",
   "execution_count": null,
   "id": "e18c8e44",
   "metadata": {
    "papermill": {
     "duration": 0.024601,
     "end_time": "2022-05-12T00:17:59.481399",
     "exception": false,
     "start_time": "2022-05-12T00:17:59.456798",
     "status": "completed"
    },
    "tags": []
   },
   "outputs": [],
   "source": []
  }
 ],
 "metadata": {
  "kernelspec": {
   "display_name": "Python 3",
   "language": "python",
   "name": "python3"
  },
  "language_info": {
   "codemirror_mode": {
    "name": "ipython",
    "version": 3
   },
   "file_extension": ".py",
   "mimetype": "text/x-python",
   "name": "python",
   "nbconvert_exporter": "python",
   "pygments_lexer": "ipython3",
   "version": "3.7.12"
  },
  "papermill": {
   "default_parameters": {},
   "duration": 44.4297,
   "end_time": "2022-05-12T00:18:02.895608",
   "environment_variables": {},
   "exception": null,
   "input_path": "__notebook__.ipynb",
   "output_path": "__notebook__.ipynb",
   "parameters": {},
   "start_time": "2022-05-12T00:17:18.465908",
   "version": "2.3.4"
  }
 },
 "nbformat": 4,
 "nbformat_minor": 5
}
